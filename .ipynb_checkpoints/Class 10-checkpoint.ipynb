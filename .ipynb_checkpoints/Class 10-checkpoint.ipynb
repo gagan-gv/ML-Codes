{
 "cells": [
  {
   "cell_type": "markdown",
   "metadata": {},
   "source": [
    "## Gagan Chordia\n",
    "\n",
    "- Multiple Linear Regression"
   ]
  },
  {
   "cell_type": "code",
   "execution_count": 1,
   "metadata": {},
   "outputs": [],
   "source": [
    "import numpy as np\n",
    "import pandas as pd"
   ]
  },
  {
   "cell_type": "code",
   "execution_count": 2,
   "metadata": {},
   "outputs": [],
   "source": [
    "class MultipleLinearRegression():\n",
    "    def __init__(self):\n",
    "        self.coeff = []\n",
    "    \n",
    "    def concat_ones(self, x):\n",
    "        ones = np.ones(shape=x.shape[0]).reshape(-1, 1)\n",
    "        return np.concatenate((ones, x), 1)\n",
    "    \n",
    "    def fit(self, x, y):\n",
    "        if(len(x.shape)) == 1:\n",
    "            x = x.reshape(-1, 1)\n",
    "        \n",
    "        x = self.concat_ones(x)\n",
    "        self.coeff = np.linalg.inv(x.transpose().dot(x)).dot(x.transpose()).dot(y)\n",
    "        \n",
    "    def predict(self, x):\n",
    "        b0 = self.coeff[0]\n",
    "        other_b = self.coeff[1:]\n",
    "        pred = b0\n",
    "        \n",
    "        for xi, bi in zip(x, other_b):\n",
    "            pred += (xi * bi)\n",
    "            \n",
    "        return pred"
   ]
  },
  {
   "cell_type": "code",
   "execution_count": 3,
   "metadata": {},
   "outputs": [],
   "source": [
    "df = pd.read_csv('https://raw.githubusercontent.com/selva86/datasets/master/BostonHousing.csv')\n",
    "y = df['medv'].values\n",
    "x = df.drop('medv', axis=1).values"
   ]
  },
  {
   "cell_type": "code",
   "execution_count": 4,
   "metadata": {},
   "outputs": [
    {
     "data": {
      "text/plain": [
       "30.003843377011904"
      ]
     },
     "execution_count": 4,
     "metadata": {},
     "output_type": "execute_result"
    }
   ],
   "source": [
    "model = MultipleLinearRegression()\n",
    "model.fit(x, y)\n",
    "model.predict(x[0])"
   ]
  }
 ],
 "metadata": {
  "kernelspec": {
   "display_name": "Python 3",
   "language": "python",
   "name": "python3"
  },
  "language_info": {
   "codemirror_mode": {
    "name": "ipython",
    "version": 3
   },
   "file_extension": ".py",
   "mimetype": "text/x-python",
   "name": "python",
   "nbconvert_exporter": "python",
   "pygments_lexer": "ipython3",
   "version": "3.8.10"
  }
 },
 "nbformat": 4,
 "nbformat_minor": 4
}
