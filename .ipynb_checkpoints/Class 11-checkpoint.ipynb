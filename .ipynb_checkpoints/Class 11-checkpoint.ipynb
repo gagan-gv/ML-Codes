{
 "cells": [
  {
   "cell_type": "markdown",
   "metadata": {},
   "source": [
    "## Gagan Chordia - 19BCE0788\n",
    "\n",
    "- K Means Clustering"
   ]
  },
  {
   "cell_type": "code",
   "execution_count": 1,
   "metadata": {},
   "outputs": [],
   "source": [
    "from sklearn.datasets import load_iris\n",
    "import pandas as pd\n",
    "import numpy as np\n",
    "import matplotlib.pyplot as plt\n",
    "plt.style.use('ggplot')\n",
    "colors = plt.rcParams['axes.prop_cycle'].by_key()['color']"
   ]
  },
  {
   "cell_type": "code",
   "execution_count": 2,
   "metadata": {},
   "outputs": [],
   "source": [
    "class KMeans():\n",
    "    def __init__(self, k=5, max_iter=50, tol=0.001):\n",
    "        self.k = k\n",
    "        self.max_iter = max_iter\n",
    "        self.tol = tol\n",
    "        \n",
    "    def fit(self, x):\n",
    "        self.centroids = {}\n",
    "        for ii in range(self.k):\n",
    "            self.centroids[ii] = x[ii]\n",
    "        for ii in range(self.max_iter):\n",
    "            self.classifications = {}\n",
    "            for jj in range(self.k):\n",
    "                self.classifications[jj] = []\n",
    "                \n",
    "            for feature in x:\n",
    "                distances = [np.linalg.norm(feature - self.centroids[centroid]) for centroid in self.centroids]\n",
    "                classification = distances.index(min(distances))\n",
    "                self.classifications[classification].append(feature)\n",
    "            \n",
    "            prev_centroids = dict(self.centroids)\n",
    "            for classification in self.classifications:\n",
    "                self.centroids[classification] = np.average(self.classifications[classification], axis=0)\n",
    "                \n",
    "            optimized = True\n",
    "            \n",
    "            for centroid in self.centroids:\n",
    "                original_centroid = prev_centroids[centroid]\n",
    "                current_centroid = self.centroids[centroid]\n",
    "                \n",
    "                if (np.sum((current_centroid - original_centroid) / original_centroid * 100) > self.tol):\n",
    "                    print(np.sum((current_centroid - original_centroid) / original_centroid * 100))\n",
    "                    optimized = False\n",
    "                          \n",
    "                if optimized:\n",
    "                    break"
   ]
  },
  {
   "cell_type": "code",
   "execution_count": 3,
   "metadata": {},
   "outputs": [],
   "source": [
    "df = load_iris()\n",
    "x = df.data"
   ]
  },
  {
   "cell_type": "code",
   "execution_count": 4,
   "metadata": {},
   "outputs": [
    {
     "name": "stdout",
     "output_type": "stream",
     "text": [
      "767.3263462688444\n",
      "666.3047619047618\n",
      "1.1010266329415046\n",
      "67.63094141610478\n",
      "8.307397650522443\n",
      "47.970061554742855\n",
      "5.173362139772175\n",
      "5.859897250426241\n",
      "3.005369492925997\n",
      "5.079414856579939\n",
      "1.804801987213922\n",
      "4.425999239999891\n",
      "3.5491575368446373\n",
      "6.0533309590486635\n",
      "2.45593052190444\n",
      "2.9375146612005247\n",
      "3.333051824214075\n",
      "4.03710974879181\n",
      "2.666264305377924\n",
      "2.689218176151795\n",
      "3.7131306225365273\n",
      "1.8394282892145153\n",
      "0.4617153882508516\n",
      "1.4177894959074588\n"
     ]
    },
    {
     "data": {
      "image/png": "[encoded data removed]",
      "text/plain": [
       "<Figure size 432x288 with 1 Axes>"
      ]
     },
     "metadata": {},
     "output_type": "display_data"
    }
   ],
   "source": [
    "km = KMeans(k = 3)\n",
    "km.fit(x)\n",
    "for classification in km.classifications:\n",
    "    color = colors[classification]\n",
    "    for featureset in km.classifications[classification]:\n",
    "        plt.scatter(featureset[0], featureset[1], marker=\"x\", color=color, s=50, linewidths=2)\n",
    "        \n",
    "for centroid in km.centroids:\n",
    "    plt.scatter(km.centroids[centroid][0], km.centroids[centroid][1], marker=\"o\", color=\"k\", s=50, linewidths=5)\n",
    "\n",
    "plt.show()"
   ]
  }
 ],
 "metadata": {
  "kernelspec": {
   "display_name": "Python 3",
   "language": "python",
   "name": "python3"
  },
  "language_info": {
   "codemirror_mode": {
    "name": "ipython",
    "version": 3
   },
   "file_extension": ".py",
   "mimetype": "text/x-python",
   "name": "python",
   "nbconvert_exporter": "python",
   "pygments_lexer": "ipython3",
   "version": "3.8.10"
  }
 },
 "nbformat": 4,
 "nbformat_minor": 4
}
