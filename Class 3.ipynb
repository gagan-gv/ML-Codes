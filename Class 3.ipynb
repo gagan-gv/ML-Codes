{
 "cells": [
  {
   "cell_type": "markdown",
   "metadata": {},
   "source": [
    "## Gagan Chordia\n",
    "\n",
    "**Polynomial Regression**"
   ]
  },
  {
   "cell_type": "code",
   "execution_count": 1,
   "metadata": {},
   "outputs": [],
   "source": [
    "import numpy as np\n",
    "import pandas as pd\n",
    "import math\n",
    "import matplotlib.pyplot as plt\n",
    "from sklearn.model_selection import train_test_split\n",
    "from sklearn.metrics import accuracy_score"
   ]
  },
  {
   "cell_type": "code",
   "execution_count": 2,
   "metadata": {},
   "outputs": [],
   "source": [
    "class PolynomialRegression():\n",
    "    def __init__(self, degree=2, iterations=5):\n",
    "        self.degree = degree\n",
    "        self.iterations = iterations\n",
    "        \n",
    "    def transform(self, x):\n",
    "        x_transform = np.ones((self.m, 1))\n",
    "        \n",
    "        for ii in range(0, self.degree + 1):\n",
    "            if(ii != 0):\n",
    "                x_power = np.power(x, ii)\n",
    "                x_transform = np.append(x_transform, x_power.reshape(-1, 1), axis=1)\n",
    "        return x_transform\n",
    "    \n",
    "    def normalize(self, x):\n",
    "        x[:, 1:] = (x[:, 1:] - np.mean(x[:, 1:], axis = 0)) / np.std(x[:, 1:], axis=0)\n",
    "        return x\n",
    "    \n",
    "    def fit(self, x, y):\n",
    "        self.x = x\n",
    "        self.y = y\n",
    "        \n",
    "        self.m, self.n = self.x.shape\n",
    "        self.w = np.zeros(self.degree + 1)\n",
    "        \n",
    "        x_transform = self.transform(self.x)\n",
    "        x_normalize = self.normalize(x_transform)\n",
    "        \n",
    "        for i in range(self.iterations):\n",
    "            h = self.predict(self.x)\n",
    "            error = h - self.y\n",
    "            \n",
    "            self.w = self.w - (1/self.m) * np.dot(x_transform.T, error)\n",
    "        \n",
    "        return self\n",
    "    \n",
    "    def predict(self, x):\n",
    "        x_transform = self.transform(x)\n",
    "        x_normalize = self.normalize(x_transform)\n",
    "        return np.dot(x_transform, self.w)"
   ]
  },
  {
   "cell_type": "code",
   "execution_count": 3,
   "metadata": {},
   "outputs": [],
   "source": [
    "df = pd.read_csv('Position_Salaries.csv')\n",
    "x = df.iloc[:, 1:2].values\n",
    "y = df.iloc[:, 2].values"
   ]
  },
  {
   "cell_type": "code",
   "execution_count": 4,
   "metadata": {},
   "outputs": [
    {
     "data": {
      "text/plain": [
       "array([-8417630.73989715, -7343757.91191554, -6029654.54959998,\n",
       "       -4429990.33857083, -2499434.96444845,  -192658.11285318,\n",
       "        2535670.53059461,  5730881.28027457,  9438304.45056636,\n",
       "       13703270.3558496 ])"
      ]
     },
     "execution_count": 4,
     "metadata": {},
     "output_type": "execute_result"
    }
   ],
   "source": [
    "model = PolynomialRegression(degree=3)\n",
    "model.fit(x, y)\n",
    "y_pred = model.predict(x)\n",
    "y_pred"
   ]
  },
  {
   "cell_type": "code",
   "execution_count": 5,
   "metadata": {},
   "outputs": [
    {
     "data": {
      "image/png": "[encoded data removed]",
      "text/plain": [
       "<Figure size 432x288 with 1 Axes>"
      ]
     },
     "metadata": {
      "needs_background": "light"
     },
     "output_type": "display_data"
    }
   ],
   "source": [
    "plt.scatter(x, y, color = 'green')\n",
    "plt.plot(x, y_pred, color = 'red')\n",
    "plt.title('X vs Y')\n",
    "plt.xlabel('X')\n",
    "plt.ylabel('Y')\n",
    "plt.show()"
   ]
  }
 ],
 "metadata": {
  "kernelspec": {
   "display_name": "Python 3",
   "language": "python",
   "name": "python3"
  },
  "language_info": {
   "codemirror_mode": {
    "name": "ipython",
    "version": 3
   },
   "file_extension": ".py",
   "mimetype": "text/x-python",
   "name": "python",
   "nbconvert_exporter": "python",
   "pygments_lexer": "ipython3",
   "version": "3.8.10"
  }
 },
 "nbformat": 4,
 "nbformat_minor": 4
}
