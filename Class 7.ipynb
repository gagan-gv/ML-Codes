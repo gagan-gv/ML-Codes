{
 "cells": [
  {
   "cell_type": "markdown",
   "id": "823d8674",
   "metadata": {},
   "source": [
    "## Gagan Chordia\n",
    "\n",
    "Perceptron"
   ]
  },
  {
   "cell_type": "code",
   "execution_count": 1,
   "id": "d37343f8",
   "metadata": {},
   "outputs": [],
   "source": [
    "import numpy as np\n",
    "import pandas as pd\n",
    "from sklearn import datasets\n",
    "from sklearn.model_selection import train_test_split\n",
    "from math import dist"
   ]
  },
  {
   "cell_type": "code",
   "execution_count": 2,
   "id": "0a295adf",
   "metadata": {},
   "outputs": [],
   "source": [
    "lr = 0.8\n",
    "epoch = 100"
   ]
  },
  {
   "cell_type": "code",
   "execution_count": 3,
   "id": "4a2b0676",
   "metadata": {},
   "outputs": [],
   "source": [
    "def step_func(z):\n",
    "    if z > 0:\n",
    "        return 1.0\n",
    "    return 0"
   ]
  },
  {
   "cell_type": "code",
   "execution_count": 4,
   "id": "11b7e2f7",
   "metadata": {},
   "outputs": [],
   "source": [
    "class Perceptron:\n",
    "    def __init__(self):\n",
    "        self.w = None\n",
    "        self.b = None\n",
    "        self.weights = []\n",
    "        self.errors = []\n",
    "        self.tolerance = 0.0\n",
    "        \n",
    "    def step_func(self, z):\n",
    "        return 1 if (np.dot(self.w, z) > self.b) else 0\n",
    "    \n",
    "    def fit(self, x, y, epochs, learning_rate):\n",
    "        self.w = np.ones(x.shape[1])\n",
    "        self.w = -self.w\n",
    "        self.b = -1\n",
    "        \n",
    "        for i in range(0, epochs):\n",
    "            err = 0\n",
    "            if len(self.weights) > 1:\n",
    "                while(dist(self.weights[i - 1], self.weights[i - 2]) != self.tolerance and i < 10):\n",
    "                    for x_temp, y_temp in zip(x, y):\n",
    "                        y_pred = self.step_func(x_temp)\n",
    "                        if (y_pred == 1 and y_temp == 0):\n",
    "                            err += 1\n",
    "                            self.w -= learning_rate * x_temp\n",
    "                            self.b += learning_rate\n",
    "                        elif(y_pred == 0 and y_temp == 1):\n",
    "                            err += 1\n",
    "                            self.w += learning_rate * x_temp\n",
    "                            self.b -= learning_rate\n",
    "                break\n",
    "            else:\n",
    "                for x_temp, y_temp in zip(x, y):\n",
    "                    y_pred = self.step_func(x_temp)\n",
    "                    if (y_pred == 1 and y_temp == 0):\n",
    "                        err += 1\n",
    "                        self.w -= learning_rate * x_temp\n",
    "                        self.b += learning_rate\n",
    "                    elif(y_pred == 0 and y_temp == 1):\n",
    "                        err += 1\n",
    "                        self.w += learning_rate * x_temp\n",
    "                        self.b -= learning_rate\n",
    "\n",
    "            self.weights.append(self.w)\n",
    "            self.errors.append(err)\n",
    "            \n",
    "        print(\"Weights\")\n",
    "        print(self.weights)\n",
    "        print(\"Errors\")\n",
    "        print(self.errors)\n",
    "        \n",
    "    def predict(self, x):\n",
    "        y = []\n",
    "        for x_temp in x:\n",
    "            y.append(self.step_func(x_temp))\n",
    "            \n",
    "        return np.array(y)"
   ]
  },
  {
   "cell_type": "code",
   "execution_count": 5,
   "id": "cf480b35",
   "metadata": {},
   "outputs": [],
   "source": [
    "x, y = datasets.make_blobs(n_samples=150, n_features=2, centers=2, cluster_std=1.25, random_state=20)\n",
    "x_train, x_test, y_train, y_test = train_test_split(x, y)"
   ]
  },
  {
   "cell_type": "code",
   "execution_count": 6,
   "id": "52712fa8",
   "metadata": {
    "scrolled": false
   },
   "outputs": [
    {
     "name": "stdout",
     "output_type": "stream",
     "text": [
      "Weights\n",
      "[array([ 17.84147355, -10.77955819]), array([ 17.84147355, -10.77955819])]\n",
      "Errors\n",
      "[14, 0]\n"
     ]
    }
   ],
   "source": [
    "model = Perceptron()\n",
    "model.fit(x_train, y_train, epoch, lr)"
   ]
  },
  {
   "cell_type": "code",
   "execution_count": 7,
   "id": "5f46c04a",
   "metadata": {},
   "outputs": [
    {
     "name": "stdout",
     "output_type": "stream",
     "text": [
      "[0 0 0 1 0 1 1 1 1 0 1 1 0 1 1 0 1 0 0 0 1 0 0 0 0 1 1 0 1 1 1 1 1 1 0 1 1\n",
      " 0]\n"
     ]
    }
   ],
   "source": [
    "y_pred = model.predict(x_test)\n",
    "print(y_pred)"
   ]
  }
 ],
 "metadata": {
  "kernelspec": {
   "display_name": "Python 3 (ipykernel)",
   "language": "python",
   "name": "python3"
  },
  "language_info": {
   "codemirror_mode": {
    "name": "ipython",
    "version": 3
   },
   "file_extension": ".py",
   "mimetype": "text/x-python",
   "name": "python",
   "nbconvert_exporter": "python",
   "pygments_lexer": "ipython3",
   "version": "3.8.10"
  }
 },
 "nbformat": 4,
 "nbformat_minor": 5
}
